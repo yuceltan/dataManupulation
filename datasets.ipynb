{
 "cells": [
  {
   "cell_type": "code",
   "execution_count": 5,
   "id": "25b12f7b",
   "metadata": {},
   "outputs": [
    {
     "data": {
      "text/plain": [
       "'1.4.4'"
      ]
     },
     "execution_count": 5,
     "metadata": {},
     "output_type": "execute_result"
    }
   ],
   "source": [
    "import pandas as pd\n",
    "pandas.__version__"
   ]
  },
  {
   "cell_type": "code",
   "execution_count": 13,
   "id": "5be6fc15",
   "metadata": {},
   "outputs": [],
   "source": [
    "dataset_1 = pd.read_csv(r\"C:\\Users\\MIQDAD\\data\\googleplaystore.csv\")"
   ]
  },
  {
   "cell_type": "code",
   "execution_count": 14,
   "id": "d7e6c0cc",
   "metadata": {},
   "outputs": [
    {
     "name": "stdout",
     "output_type": "stream",
     "text": [
      "                                                     App             Category  \\\n",
      "0         Photo Editor & Candy Camera & Grid & ScrapBook       ART_AND_DESIGN   \n",
      "1                                    Coloring book moana       ART_AND_DESIGN   \n",
      "2      U Launcher Lite – FREE Live Cool Themes, Hide ...       ART_AND_DESIGN   \n",
      "3                                  Sketch - Draw & Paint       ART_AND_DESIGN   \n",
      "4                  Pixel Draw - Number Art Coloring Book       ART_AND_DESIGN   \n",
      "...                                                  ...                  ...   \n",
      "10836                                   Sya9a Maroc - FR               FAMILY   \n",
      "10837                   Fr. Mike Schmitz Audio Teachings               FAMILY   \n",
      "10838                             Parkinson Exercices FR              MEDICAL   \n",
      "10839                      The SCP Foundation DB fr nn5n  BOOKS_AND_REFERENCE   \n",
      "10840      iHoroscope - 2018 Daily Horoscope & Astrology            LIFESTYLE   \n",
      "\n",
      "       Rating Reviews                Size     Installs  Type Price  \\\n",
      "0         4.1     159                 19M      10,000+  Free     0   \n",
      "1         3.9     967                 14M     500,000+  Free     0   \n",
      "2         4.7   87510                8.7M   5,000,000+  Free     0   \n",
      "3         4.5  215644                 25M  50,000,000+  Free     0   \n",
      "4         4.3     967                2.8M     100,000+  Free     0   \n",
      "...       ...     ...                 ...          ...   ...   ...   \n",
      "10836     4.5      38                 53M       5,000+  Free     0   \n",
      "10837     5.0       4                3.6M         100+  Free     0   \n",
      "10838     NaN       3                9.5M       1,000+  Free     0   \n",
      "10839     4.5     114  Varies with device       1,000+  Free     0   \n",
      "10840     4.5  398307                 19M  10,000,000+  Free     0   \n",
      "\n",
      "      Content Rating                     Genres      Last Updated  \\\n",
      "0           Everyone               Art & Design   January 7, 2018   \n",
      "1           Everyone  Art & Design;Pretend Play  January 15, 2018   \n",
      "2           Everyone               Art & Design    August 1, 2018   \n",
      "3               Teen               Art & Design      June 8, 2018   \n",
      "4           Everyone    Art & Design;Creativity     June 20, 2018   \n",
      "...              ...                        ...               ...   \n",
      "10836       Everyone                  Education     July 25, 2017   \n",
      "10837       Everyone                  Education      July 6, 2018   \n",
      "10838       Everyone                    Medical  January 20, 2017   \n",
      "10839     Mature 17+          Books & Reference  January 19, 2015   \n",
      "10840       Everyone                  Lifestyle     July 25, 2018   \n",
      "\n",
      "              Current Ver         Android Ver  \n",
      "0                   1.0.0        4.0.3 and up  \n",
      "1                   2.0.0        4.0.3 and up  \n",
      "2                   1.2.4        4.0.3 and up  \n",
      "3      Varies with device          4.2 and up  \n",
      "4                     1.1          4.4 and up  \n",
      "...                   ...                 ...  \n",
      "10836                1.48          4.1 and up  \n",
      "10837                 1.0          4.1 and up  \n",
      "10838                 1.0          2.2 and up  \n",
      "10839  Varies with device  Varies with device  \n",
      "10840  Varies with device  Varies with device  \n",
      "\n",
      "[10841 rows x 13 columns]\n"
     ]
    }
   ],
   "source": [
    "print(dataset_1)"
   ]
  },
  {
   "cell_type": "code",
   "execution_count": 15,
   "id": "dc6a5b2c",
   "metadata": {},
   "outputs": [],
   "source": [
    "dataset_2 = pd.read_csv(r\"C:\\Users\\MIQDAD\\data\\googleplaystore_user_reviews.csv\")"
   ]
  },
  {
   "cell_type": "code",
   "execution_count": 16,
   "id": "ab7f5a80",
   "metadata": {},
   "outputs": [
    {
     "name": "stdout",
     "output_type": "stream",
     "text": [
      "                               App  \\\n",
      "0            10 Best Foods for You   \n",
      "1            10 Best Foods for You   \n",
      "2            10 Best Foods for You   \n",
      "3            10 Best Foods for You   \n",
      "4            10 Best Foods for You   \n",
      "...                            ...   \n",
      "64290  Houzz Interior Design Ideas   \n",
      "64291  Houzz Interior Design Ideas   \n",
      "64292  Houzz Interior Design Ideas   \n",
      "64293  Houzz Interior Design Ideas   \n",
      "64294  Houzz Interior Design Ideas   \n",
      "\n",
      "                                       Translated_Review Sentiment  \\\n",
      "0      I like eat delicious food. That's I'm cooking ...  Positive   \n",
      "1        This help eating healthy exercise regular basis  Positive   \n",
      "2                                                    NaN       NaN   \n",
      "3             Works great especially going grocery store  Positive   \n",
      "4                                           Best idea us  Positive   \n",
      "...                                                  ...       ...   \n",
      "64290                                                NaN       NaN   \n",
      "64291                                                NaN       NaN   \n",
      "64292                                                NaN       NaN   \n",
      "64293                                                NaN       NaN   \n",
      "64294                                                NaN       NaN   \n",
      "\n",
      "       Sentiment_Polarity  Sentiment_Subjectivity  \n",
      "0                    1.00                0.533333  \n",
      "1                    0.25                0.288462  \n",
      "2                     NaN                     NaN  \n",
      "3                    0.40                0.875000  \n",
      "4                    1.00                0.300000  \n",
      "...                   ...                     ...  \n",
      "64290                 NaN                     NaN  \n",
      "64291                 NaN                     NaN  \n",
      "64292                 NaN                     NaN  \n",
      "64293                 NaN                     NaN  \n",
      "64294                 NaN                     NaN  \n",
      "\n",
      "[64295 rows x 5 columns]\n"
     ]
    }
   ],
   "source": [
    "print(dataset_2)"
   ]
  },
  {
   "cell_type": "code",
   "execution_count": null,
   "id": "e8eb31b2",
   "metadata": {},
   "outputs": [],
   "source": []
  }
 ],
 "metadata": {
  "kernelspec": {
   "display_name": "Python 3 (ipykernel)",
   "language": "python",
   "name": "python3"
  },
  "language_info": {
   "codemirror_mode": {
    "name": "ipython",
    "version": 3
   },
   "file_extension": ".py",
   "mimetype": "text/x-python",
   "name": "python",
   "nbconvert_exporter": "python",
   "pygments_lexer": "ipython3",
   "version": "3.9.13"
  }
 },
 "nbformat": 4,
 "nbformat_minor": 5
}
