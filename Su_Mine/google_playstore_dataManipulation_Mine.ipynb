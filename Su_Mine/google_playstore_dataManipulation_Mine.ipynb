{
 "cells": [
  {
   "cell_type": "code",
   "execution_count": 52,
   "id": "eb51fd21",
   "metadata": {},
   "outputs": [],
   "source": [
    "import pandas as pd\n",
    "import numpy as np\n",
    "import matplotlib as mpl"
   ]
  },
  {
   "cell_type": "code",
   "execution_count": 3,
   "id": "3d7d6ce2",
   "metadata": {},
   "outputs": [],
   "source": [
    "google_data=pd.read_csv(r\"C:\\Users\\MIQDAD\\data\\googleplaystore.csv\",index_col=(0))"
   ]
  },
  {
   "cell_type": "code",
   "execution_count": 4,
   "id": "19fd51e4",
   "metadata": {},
   "outputs": [],
   "source": [
    "# indexing\n",
    "google_data['index']=range(1,10842)"
   ]
  },
  {
   "cell_type": "code",
   "execution_count": 5,
   "id": "967c38a0",
   "metadata": {},
   "outputs": [
    {
     "data": {
      "text/html": [
       "<div>\n",
       "<style scoped>\n",
       "    .dataframe tbody tr th:only-of-type {\n",
       "        vertical-align: middle;\n",
       "    }\n",
       "\n",
       "    .dataframe tbody tr th {\n",
       "        vertical-align: top;\n",
       "    }\n",
       "\n",
       "    .dataframe thead th {\n",
       "        text-align: right;\n",
       "    }\n",
       "</style>\n",
       "<table border=\"1\" class=\"dataframe\">\n",
       "  <thead>\n",
       "    <tr style=\"text-align: right;\">\n",
       "      <th></th>\n",
       "      <th>Category</th>\n",
       "      <th>Rating</th>\n",
       "      <th>Reviews</th>\n",
       "      <th>Size</th>\n",
       "      <th>Installs</th>\n",
       "      <th>Type</th>\n",
       "      <th>Price</th>\n",
       "      <th>Content Rating</th>\n",
       "      <th>Genres</th>\n",
       "      <th>Last Updated</th>\n",
       "      <th>Current Ver</th>\n",
       "      <th>Android Ver</th>\n",
       "      <th>index</th>\n",
       "    </tr>\n",
       "    <tr>\n",
       "      <th>App</th>\n",
       "      <th></th>\n",
       "      <th></th>\n",
       "      <th></th>\n",
       "      <th></th>\n",
       "      <th></th>\n",
       "      <th></th>\n",
       "      <th></th>\n",
       "      <th></th>\n",
       "      <th></th>\n",
       "      <th></th>\n",
       "      <th></th>\n",
       "      <th></th>\n",
       "      <th></th>\n",
       "    </tr>\n",
       "  </thead>\n",
       "  <tbody>\n",
       "    <tr>\n",
       "      <th>Life Made WI-Fi Touchscreen Photo Frame</th>\n",
       "      <td>1.9</td>\n",
       "      <td>19.0</td>\n",
       "      <td>3.0M</td>\n",
       "      <td>1,000+</td>\n",
       "      <td>Free</td>\n",
       "      <td>0</td>\n",
       "      <td>Everyone</td>\n",
       "      <td>NaN</td>\n",
       "      <td>February 11, 2018</td>\n",
       "      <td>1.0.19</td>\n",
       "      <td>4.0 and up</td>\n",
       "      <td>NaN</td>\n",
       "      <td>10473</td>\n",
       "    </tr>\n",
       "  </tbody>\n",
       "</table>\n",
       "</div>"
      ],
      "text/plain": [
       "                                        Category  Rating Reviews    Size  \\\n",
       "App                                                                        \n",
       "Life Made WI-Fi Touchscreen Photo Frame      1.9    19.0    3.0M  1,000+   \n",
       "\n",
       "                                        Installs Type     Price  \\\n",
       "App                                                               \n",
       "Life Made WI-Fi Touchscreen Photo Frame     Free    0  Everyone   \n",
       "\n",
       "                                        Content Rating             Genres  \\\n",
       "App                                                                         \n",
       "Life Made WI-Fi Touchscreen Photo Frame            NaN  February 11, 2018   \n",
       "\n",
       "                                        Last Updated Current Ver Android Ver  \\\n",
       "App                                                                            \n",
       "Life Made WI-Fi Touchscreen Photo Frame       1.0.19  4.0 and up         NaN   \n",
       "\n",
       "                                         index  \n",
       "App                                             \n",
       "Life Made WI-Fi Touchscreen Photo Frame  10473  "
      ]
     },
     "execution_count": 5,
     "metadata": {},
     "output_type": "execute_result"
    }
   ],
   "source": [
    "# I find a data line is shifted 1 cell left\n",
    "google_data.loc[google_data.Category==('1.9')]"
   ]
  },
  {
   "cell_type": "code",
   "execution_count": 6,
   "id": "b069fb31",
   "metadata": {},
   "outputs": [
    {
     "data": {
      "text/plain": [
       "Category                        1.9\n",
       "Rating                         19.0\n",
       "Reviews                        3.0M\n",
       "Size                         1,000+\n",
       "Installs                       Free\n",
       "Type                              0\n",
       "Price                      Everyone\n",
       "Content Rating                  NaN\n",
       "Genres            February 11, 2018\n",
       "Last Updated                 1.0.19\n",
       "Current Ver              4.0 and up\n",
       "Android Ver                     NaN\n",
       "index                         10473\n",
       "Name: Life Made WI-Fi Touchscreen Photo Frame, dtype: object"
      ]
     },
     "execution_count": 6,
     "metadata": {},
     "output_type": "execute_result"
    }
   ],
   "source": [
    "#it has index 10473, it means its on row 10472\n",
    "google_data.iloc[10472,:]"
   ]
  },
  {
   "cell_type": "code",
   "execution_count": 7,
   "id": "7618fde4",
   "metadata": {},
   "outputs": [],
   "source": [
    "for i in range(2,13): google_data.iloc[10472,-i]=google_data.iloc[10472,-i-1]"
   ]
  },
  {
   "cell_type": "code",
   "execution_count": 8,
   "id": "0d61b820",
   "metadata": {},
   "outputs": [
    {
     "data": {
      "text/plain": [
       "Category                        1.9\n",
       "Rating                          1.9\n",
       "Reviews                        19.0\n",
       "Size                           3.0M\n",
       "Installs                     1,000+\n",
       "Type                           Free\n",
       "Price                             0\n",
       "Content Rating             Everyone\n",
       "Genres                          NaN\n",
       "Last Updated      February 11, 2018\n",
       "Current Ver                  1.0.19\n",
       "Android Ver              4.0 and up\n",
       "index                         10473\n",
       "Name: Life Made WI-Fi Touchscreen Photo Frame, dtype: object"
      ]
     },
     "execution_count": 8,
     "metadata": {},
     "output_type": "execute_result"
    }
   ],
   "source": [
    "# to see the result\n",
    "google_data.iloc[10472,:]"
   ]
  },
  {
   "cell_type": "code",
   "execution_count": 9,
   "id": "27a824c5",
   "metadata": {},
   "outputs": [],
   "source": [
    "# category is missing\n",
    "google_data.iloc[10472,0]='LIFESTYLE'"
   ]
  },
  {
   "cell_type": "code",
   "execution_count": 10,
   "id": "f7418efb",
   "metadata": {},
   "outputs": [
    {
     "data": {
      "text/plain": [
       "Category                  LIFESTYLE\n",
       "Rating                          1.9\n",
       "Reviews                        19.0\n",
       "Size                           3.0M\n",
       "Installs                     1,000+\n",
       "Type                           Free\n",
       "Price                             0\n",
       "Content Rating             Everyone\n",
       "Genres                          NaN\n",
       "Last Updated      February 11, 2018\n",
       "Current Ver                  1.0.19\n",
       "Android Ver              4.0 and up\n",
       "index                         10473\n",
       "Name: Life Made WI-Fi Touchscreen Photo Frame, dtype: object"
      ]
     },
     "execution_count": 10,
     "metadata": {},
     "output_type": "execute_result"
    }
   ],
   "source": [
    "# now its correct\n",
    "google_data.iloc[10472,:]"
   ]
  },
  {
   "cell_type": "code",
   "execution_count": 15,
   "id": "31a882b2",
   "metadata": {},
   "outputs": [],
   "source": [
    "# to use installs we should manipulate the data, and to keep original in the file I did create new column\n",
    "google_data['Installs']=google_data['Installs'].str.replace(\",\",\"\")"
   ]
  },
  {
   "cell_type": "code",
   "execution_count": 17,
   "id": "108e3660",
   "metadata": {},
   "outputs": [
    {
     "name": "stderr",
     "output_type": "stream",
     "text": [
      "C:\\Users\\user\\AppData\\Local\\Temp\\ipykernel_13764\\1531505342.py:1: FutureWarning: The default value of regex will change from True to False in a future version. In addition, single character regular expressions will *not* be treated as literal strings when regex=True.\n",
      "  google_data['Installs']=google_data['Installs'].str.replace(\"+\",\"\").astype(int)\n"
     ]
    }
   ],
   "source": [
    "google_data['Installs']=google_data['Installs'].str.replace(\"+\",\"\").astype(int)"
   ]
  },
  {
   "cell_type": "code",
   "execution_count": 23,
   "id": "2f5dacf9",
   "metadata": {},
   "outputs": [
    {
     "data": {
      "text/html": [
       "<div>\n",
       "<style scoped>\n",
       "    .dataframe tbody tr th:only-of-type {\n",
       "        vertical-align: middle;\n",
       "    }\n",
       "\n",
       "    .dataframe tbody tr th {\n",
       "        vertical-align: top;\n",
       "    }\n",
       "\n",
       "    .dataframe thead th {\n",
       "        text-align: right;\n",
       "    }\n",
       "</style>\n",
       "<table border=\"1\" class=\"dataframe\">\n",
       "  <thead>\n",
       "    <tr style=\"text-align: right;\">\n",
       "      <th></th>\n",
       "      <th>Category</th>\n",
       "      <th>Rating</th>\n",
       "      <th>Reviews</th>\n",
       "      <th>Size</th>\n",
       "      <th>Installs</th>\n",
       "      <th>Type</th>\n",
       "      <th>Price</th>\n",
       "      <th>Content Rating</th>\n",
       "      <th>Genres</th>\n",
       "      <th>Last Updated</th>\n",
       "      <th>Current Ver</th>\n",
       "      <th>Android Ver</th>\n",
       "      <th>index</th>\n",
       "    </tr>\n",
       "    <tr>\n",
       "      <th>App</th>\n",
       "      <th></th>\n",
       "      <th></th>\n",
       "      <th></th>\n",
       "      <th></th>\n",
       "      <th></th>\n",
       "      <th></th>\n",
       "      <th></th>\n",
       "      <th></th>\n",
       "      <th></th>\n",
       "      <th></th>\n",
       "      <th></th>\n",
       "      <th></th>\n",
       "      <th></th>\n",
       "    </tr>\n",
       "  </thead>\n",
       "  <tbody>\n",
       "    <tr>\n",
       "      <th>Photo Editor &amp; Candy Camera &amp; Grid &amp; ScrapBook</th>\n",
       "      <td>ART_AND_DESIGN</td>\n",
       "      <td>4.1</td>\n",
       "      <td>159</td>\n",
       "      <td>19M</td>\n",
       "      <td>10000</td>\n",
       "      <td>Free</td>\n",
       "      <td>0</td>\n",
       "      <td>Everyone</td>\n",
       "      <td>Art &amp; Design</td>\n",
       "      <td>January 7, 2018</td>\n",
       "      <td>1.0.0</td>\n",
       "      <td>4.0.3 and up</td>\n",
       "      <td>1</td>\n",
       "    </tr>\n",
       "    <tr>\n",
       "      <th>Coloring book moana</th>\n",
       "      <td>ART_AND_DESIGN</td>\n",
       "      <td>3.9</td>\n",
       "      <td>967</td>\n",
       "      <td>14M</td>\n",
       "      <td>500000</td>\n",
       "      <td>Free</td>\n",
       "      <td>0</td>\n",
       "      <td>Everyone</td>\n",
       "      <td>Art &amp; Design;Pretend Play</td>\n",
       "      <td>January 15, 2018</td>\n",
       "      <td>2.0.0</td>\n",
       "      <td>4.0.3 and up</td>\n",
       "      <td>2</td>\n",
       "    </tr>\n",
       "    <tr>\n",
       "      <th>U Launcher Lite – FREE Live Cool Themes, Hide Apps</th>\n",
       "      <td>ART_AND_DESIGN</td>\n",
       "      <td>4.7</td>\n",
       "      <td>87510</td>\n",
       "      <td>8.7M</td>\n",
       "      <td>5000000</td>\n",
       "      <td>Free</td>\n",
       "      <td>0</td>\n",
       "      <td>Everyone</td>\n",
       "      <td>Art &amp; Design</td>\n",
       "      <td>August 1, 2018</td>\n",
       "      <td>1.2.4</td>\n",
       "      <td>4.0.3 and up</td>\n",
       "      <td>3</td>\n",
       "    </tr>\n",
       "    <tr>\n",
       "      <th>Sketch - Draw &amp; Paint</th>\n",
       "      <td>ART_AND_DESIGN</td>\n",
       "      <td>4.5</td>\n",
       "      <td>215644</td>\n",
       "      <td>25M</td>\n",
       "      <td>50000000</td>\n",
       "      <td>Free</td>\n",
       "      <td>0</td>\n",
       "      <td>Teen</td>\n",
       "      <td>Art &amp; Design</td>\n",
       "      <td>June 8, 2018</td>\n",
       "      <td>Varies with device</td>\n",
       "      <td>4.2 and up</td>\n",
       "      <td>4</td>\n",
       "    </tr>\n",
       "    <tr>\n",
       "      <th>Pixel Draw - Number Art Coloring Book</th>\n",
       "      <td>ART_AND_DESIGN</td>\n",
       "      <td>4.3</td>\n",
       "      <td>967</td>\n",
       "      <td>2.8M</td>\n",
       "      <td>100000</td>\n",
       "      <td>Free</td>\n",
       "      <td>0</td>\n",
       "      <td>Everyone</td>\n",
       "      <td>Art &amp; Design;Creativity</td>\n",
       "      <td>June 20, 2018</td>\n",
       "      <td>1.1</td>\n",
       "      <td>4.4 and up</td>\n",
       "      <td>5</td>\n",
       "    </tr>\n",
       "  </tbody>\n",
       "</table>\n",
       "</div>"
      ],
      "text/plain": [
       "                                                          Category Rating  \\\n",
       "App                                                                         \n",
       "Photo Editor & Candy Camera & Grid & ScrapBook      ART_AND_DESIGN    4.1   \n",
       "Coloring book moana                                 ART_AND_DESIGN    3.9   \n",
       "U Launcher Lite – FREE Live Cool Themes, Hide Apps  ART_AND_DESIGN    4.7   \n",
       "Sketch - Draw & Paint                               ART_AND_DESIGN    4.5   \n",
       "Pixel Draw - Number Art Coloring Book               ART_AND_DESIGN    4.3   \n",
       "\n",
       "                                                   Reviews  Size  Installs  \\\n",
       "App                                                                          \n",
       "Photo Editor & Candy Camera & Grid & ScrapBook         159   19M     10000   \n",
       "Coloring book moana                                    967   14M    500000   \n",
       "U Launcher Lite – FREE Live Cool Themes, Hide Apps   87510  8.7M   5000000   \n",
       "Sketch - Draw & Paint                               215644   25M  50000000   \n",
       "Pixel Draw - Number Art Coloring Book                  967  2.8M    100000   \n",
       "\n",
       "                                                    Type Price Content Rating  \\\n",
       "App                                                                             \n",
       "Photo Editor & Candy Camera & Grid & ScrapBook      Free     0       Everyone   \n",
       "Coloring book moana                                 Free     0       Everyone   \n",
       "U Launcher Lite – FREE Live Cool Themes, Hide Apps  Free     0       Everyone   \n",
       "Sketch - Draw & Paint                               Free     0           Teen   \n",
       "Pixel Draw - Number Art Coloring Book               Free     0       Everyone   \n",
       "\n",
       "                                                                       Genres  \\\n",
       "App                                                                             \n",
       "Photo Editor & Candy Camera & Grid & ScrapBook                   Art & Design   \n",
       "Coloring book moana                                 Art & Design;Pretend Play   \n",
       "U Launcher Lite – FREE Live Cool Themes, Hide Apps               Art & Design   \n",
       "Sketch - Draw & Paint                                            Art & Design   \n",
       "Pixel Draw - Number Art Coloring Book                 Art & Design;Creativity   \n",
       "\n",
       "                                                        Last Updated  \\\n",
       "App                                                                    \n",
       "Photo Editor & Candy Camera & Grid & ScrapBook       January 7, 2018   \n",
       "Coloring book moana                                 January 15, 2018   \n",
       "U Launcher Lite – FREE Live Cool Themes, Hide Apps    August 1, 2018   \n",
       "Sketch - Draw & Paint                                   June 8, 2018   \n",
       "Pixel Draw - Number Art Coloring Book                  June 20, 2018   \n",
       "\n",
       "                                                           Current Ver  \\\n",
       "App                                                                      \n",
       "Photo Editor & Candy Camera & Grid & ScrapBook                   1.0.0   \n",
       "Coloring book moana                                              2.0.0   \n",
       "U Launcher Lite – FREE Live Cool Themes, Hide Apps               1.2.4   \n",
       "Sketch - Draw & Paint                               Varies with device   \n",
       "Pixel Draw - Number Art Coloring Book                              1.1   \n",
       "\n",
       "                                                     Android Ver  index  \n",
       "App                                                                      \n",
       "Photo Editor & Candy Camera & Grid & ScrapBook      4.0.3 and up      1  \n",
       "Coloring book moana                                 4.0.3 and up      2  \n",
       "U Launcher Lite – FREE Live Cool Themes, Hide Apps  4.0.3 and up      3  \n",
       "Sketch - Draw & Paint                                 4.2 and up      4  \n",
       "Pixel Draw - Number Art Coloring Book                 4.4 and up      5  "
      ]
     },
     "execution_count": 23,
     "metadata": {},
     "output_type": "execute_result"
    }
   ],
   "source": [
    "google_data.head()"
   ]
  },
  {
   "cell_type": "markdown",
   "id": "fc04e9dd",
   "metadata": {},
   "source": [
    "#  20 Most Installed Apps"
   ]
  },
  {
   "cell_type": "code",
   "execution_count": 74,
   "id": "d0ea4cd5",
   "metadata": {},
   "outputs": [
    {
     "name": "stdout",
     "output_type": "stream",
     "text": [
      "                                         Category Rating   Reviews  \\\n",
      "App                                                                  \n",
      "Gmail                               COMMUNICATION    4.3   4604324   \n",
      "Skype - free IM & video calls       COMMUNICATION    4.1  10484169   \n",
      "Instagram                                  SOCIAL    4.5  66509917   \n",
      "Google                                      TOOLS    4.4   8033493   \n",
      "WhatsApp Messenger                  COMMUNICATION    4.4  69109672   \n",
      "Google                                      TOOLS    4.4   8021623   \n",
      "Hangouts                            COMMUNICATION    4.0   3419464   \n",
      "Google Drive                         PRODUCTIVITY    4.4   2728941   \n",
      "Subway Surfers                               GAME    4.5  27723193   \n",
      "Subway Surfers                               GAME    4.5  27725352   \n",
      "Subway Surfers                               GAME    4.5  27725352   \n",
      "Google News                    NEWS_AND_MAGAZINES    3.9    878065   \n",
      "Facebook                                   SOCIAL    4.1  78128208   \n",
      "YouTube                             VIDEO_PLAYERS    4.3  25623548   \n",
      "Google+                                    SOCIAL    4.2   4828372   \n",
      "Google Photos                         PHOTOGRAPHY    4.5  10859051   \n",
      "Google Chrome: Fast & Secure        COMMUNICATION    4.3   9643041   \n",
      "Google News                    NEWS_AND_MAGAZINES    3.9    877635   \n",
      "Google News                    NEWS_AND_MAGAZINES    3.9    877635   \n",
      "Google Photos                         PHOTOGRAPHY    4.5  10847682   \n",
      "\n",
      "                                             Size    Installs  Type Price  \\\n",
      "App                                                                         \n",
      "Gmail                          Varies with device  1000000000  Free     0   \n",
      "Skype - free IM & video calls  Varies with device  1000000000  Free     0   \n",
      "Instagram                      Varies with device  1000000000  Free     0   \n",
      "Google                         Varies with device  1000000000  Free     0   \n",
      "WhatsApp Messenger             Varies with device  1000000000  Free     0   \n",
      "Google                         Varies with device  1000000000  Free     0   \n",
      "Hangouts                       Varies with device  1000000000  Free     0   \n",
      "Google Drive                   Varies with device  1000000000  Free     0   \n",
      "Subway Surfers                                76M  1000000000  Free     0   \n",
      "Subway Surfers                                76M  1000000000  Free     0   \n",
      "Subway Surfers                                76M  1000000000  Free     0   \n",
      "Google News                                   13M  1000000000  Free     0   \n",
      "Facebook                       Varies with device  1000000000  Free     0   \n",
      "YouTube                        Varies with device  1000000000  Free     0   \n",
      "Google+                        Varies with device  1000000000  Free     0   \n",
      "Google Photos                  Varies with device  1000000000  Free     0   \n",
      "Google Chrome: Fast & Secure   Varies with device  1000000000  Free     0   \n",
      "Google News                                   13M  1000000000  Free     0   \n",
      "Google News                                   13M  1000000000  Free     0   \n",
      "Google Photos                  Varies with device  1000000000  Free     0   \n",
      "\n",
      "                              Content Rating                   Genres  \\\n",
      "App                                                                     \n",
      "Gmail                               Everyone            Communication   \n",
      "Skype - free IM & video calls       Everyone            Communication   \n",
      "Instagram                               Teen                   Social   \n",
      "Google                              Everyone                    Tools   \n",
      "WhatsApp Messenger                  Everyone            Communication   \n",
      "Google                              Everyone                    Tools   \n",
      "Hangouts                            Everyone            Communication   \n",
      "Google Drive                        Everyone             Productivity   \n",
      "Subway Surfers                  Everyone 10+                   Arcade   \n",
      "Subway Surfers                  Everyone 10+                   Arcade   \n",
      "Subway Surfers                  Everyone 10+                   Arcade   \n",
      "Google News                             Teen         News & Magazines   \n",
      "Facebook                                Teen                   Social   \n",
      "YouTube                                 Teen  Video Players & Editors   \n",
      "Google+                                 Teen                   Social   \n",
      "Google Photos                       Everyone              Photography   \n",
      "Google Chrome: Fast & Secure        Everyone            Communication   \n",
      "Google News                             Teen         News & Magazines   \n",
      "Google News                             Teen         News & Magazines   \n",
      "Google Photos                       Everyone              Photography   \n",
      "\n",
      "                                 Last Updated         Current Ver  \\\n",
      "App                                                                 \n",
      "Gmail                          August 2, 2018  Varies with device   \n",
      "Skype - free IM & video calls  August 3, 2018  Varies with device   \n",
      "Instagram                       July 31, 2018  Varies with device   \n",
      "Google                         August 3, 2018  Varies with device   \n",
      "WhatsApp Messenger             August 3, 2018  Varies with device   \n",
      "Google                         August 3, 2018  Varies with device   \n",
      "Hangouts                        July 21, 2018  Varies with device   \n",
      "Google Drive                    July 30, 2018  Varies with device   \n",
      "Subway Surfers                  July 12, 2018              1.90.0   \n",
      "Subway Surfers                  July 12, 2018              1.90.0   \n",
      "Subway Surfers                  July 12, 2018              1.90.0   \n",
      "Google News                    August 1, 2018               5.2.0   \n",
      "Facebook                       August 3, 2018  Varies with device   \n",
      "YouTube                        August 2, 2018  Varies with device   \n",
      "Google+                         July 26, 2018  Varies with device   \n",
      "Google Photos                  August 6, 2018  Varies with device   \n",
      "Google Chrome: Fast & Secure   August 1, 2018  Varies with device   \n",
      "Google News                    August 1, 2018               5.2.0   \n",
      "Google News                    August 1, 2018               5.2.0   \n",
      "Google Photos                  August 1, 2018  Varies with device   \n",
      "\n",
      "                                      Android Ver  index  \n",
      "App                                                       \n",
      "Gmail                          Varies with device   4097  \n",
      "Skype - free IM & video calls  Varies with device   4235  \n",
      "Instagram                      Varies with device   3910  \n",
      "Google                         Varies with device   3235  \n",
      "WhatsApp Messenger             Varies with device   3905  \n",
      "Google                         Varies with device   4151  \n",
      "Hangouts                       Varies with device   4154  \n",
      "Google Drive                   Varies with device   4171  \n",
      "Subway Surfers                         4.1 and up   1701  \n",
      "Subway Surfers                         4.1 and up   1873  \n",
      "Subway Surfers                         4.1 and up   1918  \n",
      "Google News                            4.4 and up   9845  \n",
      "Facebook                       Varies with device   3944  \n",
      "YouTube                        Varies with device   3929  \n",
      "Google+                        Varies with device   4145  \n",
      "Google Photos                  Varies with device   2885  \n",
      "Google Chrome: Fast & Secure   Varies with device    412  \n",
      "Google News                            4.4 and up   3766  \n",
      "Google News                            4.4 and up   3737  \n",
      "Google Photos                  Varies with device   5396  \n"
     ]
    }
   ],
   "source": [
    "intstalled_Apps=google_data.sort_values(by=[\"Installs\"],inplace=False,ascending=False)\n",
    "most_intstalled_Apps=intstalled_Apps.head(20)\n",
    "print(most_intstalled_Apps)"
   ]
  },
  {
   "cell_type": "code",
   "execution_count": 46,
   "id": "afc70920",
   "metadata": {},
   "outputs": [
    {
     "data": {
      "text/plain": [
       "<AxesSubplot:xlabel='App Name', ylabel='Installs'>"
      ]
     },
     "execution_count": 46,
     "metadata": {},
     "output_type": "execute_result"
    },
    {
     "data": {
      "image/png": "[encoded data removed]",
      "text/plain": [
       "<Figure size 640x480 with 1 Axes>"
      ]
     },
     "metadata": {},
     "output_type": "display_data"
    }
   ],
   "source": [
    "most_intstalled_Apps.plot(kind='bar',ylabel='Installs',xlabel='App Name')"
   ]
  },
  {
   "cell_type": "markdown",
   "id": "145d24ae",
   "metadata": {},
   "source": [
    "## What is their chategory"
   ]
  },
  {
   "cell_type": "code",
   "execution_count": 89,
   "id": "00154f2b",
   "metadata": {},
   "outputs": [
    {
     "data": {
      "text/html": [
       "<div>\n",
       "<style scoped>\n",
       "    .dataframe tbody tr th:only-of-type {\n",
       "        vertical-align: middle;\n",
       "    }\n",
       "\n",
       "    .dataframe tbody tr th {\n",
       "        vertical-align: top;\n",
       "    }\n",
       "\n",
       "    .dataframe thead tr th {\n",
       "        text-align: left;\n",
       "    }\n",
       "\n",
       "    .dataframe thead tr:last-of-type th {\n",
       "        text-align: right;\n",
       "    }\n",
       "</style>\n",
       "<table border=\"1\" class=\"dataframe\">\n",
       "  <thead>\n",
       "    <tr>\n",
       "      <th></th>\n",
       "      <th colspan=\"2\" halign=\"left\">Rating</th>\n",
       "    </tr>\n",
       "    <tr>\n",
       "      <th></th>\n",
       "      <th>mean</th>\n",
       "      <th>size</th>\n",
       "    </tr>\n",
       "    <tr>\n",
       "      <th>Category</th>\n",
       "      <th></th>\n",
       "      <th></th>\n",
       "    </tr>\n",
       "  </thead>\n",
       "  <tbody>\n",
       "    <tr>\n",
       "      <th>COMMUNICATION</th>\n",
       "      <td>4.220000</td>\n",
       "      <td>5</td>\n",
       "    </tr>\n",
       "    <tr>\n",
       "      <th>GAME</th>\n",
       "      <td>4.500000</td>\n",
       "      <td>3</td>\n",
       "    </tr>\n",
       "    <tr>\n",
       "      <th>NEWS_AND_MAGAZINES</th>\n",
       "      <td>3.900000</td>\n",
       "      <td>3</td>\n",
       "    </tr>\n",
       "    <tr>\n",
       "      <th>SOCIAL</th>\n",
       "      <td>4.266667</td>\n",
       "      <td>3</td>\n",
       "    </tr>\n",
       "    <tr>\n",
       "      <th>PHOTOGRAPHY</th>\n",
       "      <td>4.500000</td>\n",
       "      <td>2</td>\n",
       "    </tr>\n",
       "    <tr>\n",
       "      <th>TOOLS</th>\n",
       "      <td>4.400000</td>\n",
       "      <td>2</td>\n",
       "    </tr>\n",
       "    <tr>\n",
       "      <th>PRODUCTIVITY</th>\n",
       "      <td>4.400000</td>\n",
       "      <td>1</td>\n",
       "    </tr>\n",
       "    <tr>\n",
       "      <th>VIDEO_PLAYERS</th>\n",
       "      <td>4.300000</td>\n",
       "      <td>1</td>\n",
       "    </tr>\n",
       "  </tbody>\n",
       "</table>\n",
       "</div>"
      ],
      "text/plain": [
       "                      Rating     \n",
       "                        mean size\n",
       "Category                         \n",
       "COMMUNICATION       4.220000    5\n",
       "GAME                4.500000    3\n",
       "NEWS_AND_MAGAZINES  3.900000    3\n",
       "SOCIAL              4.266667    3\n",
       "PHOTOGRAPHY         4.500000    2\n",
       "TOOLS               4.400000    2\n",
       "PRODUCTIVITY        4.400000    1\n",
       "VIDEO_PLAYERS       4.300000    1"
      ]
     },
     "execution_count": 89,
     "metadata": {},
     "output_type": "execute_result"
    }
   ],
   "source": [
    "category_of_most=most_intstalled_Apps.groupby(\"Category\").agg({\"Rating\":[np.mean,np.size]}).sort_values(by=[('Rating', 'size')],ascending=False)\n",
    "category_of_most"
   ]
  },
  {
   "cell_type": "code",
   "execution_count": 62,
   "id": "c073647d",
   "metadata": {},
   "outputs": [
    {
     "data": {
      "text/html": [
       "<div>\n",
       "<style scoped>\n",
       "    .dataframe tbody tr th:only-of-type {\n",
       "        vertical-align: middle;\n",
       "    }\n",
       "\n",
       "    .dataframe tbody tr th {\n",
       "        vertical-align: top;\n",
       "    }\n",
       "\n",
       "    .dataframe thead tr th {\n",
       "        text-align: left;\n",
       "    }\n",
       "\n",
       "    .dataframe thead tr:last-of-type th {\n",
       "        text-align: right;\n",
       "    }\n",
       "</style>\n",
       "<table border=\"1\" class=\"dataframe\">\n",
       "  <thead>\n",
       "    <tr>\n",
       "      <th></th>\n",
       "      <th colspan=\"2\" halign=\"left\">Reviews</th>\n",
       "    </tr>\n",
       "    <tr>\n",
       "      <th></th>\n",
       "      <th>mean</th>\n",
       "      <th>size</th>\n",
       "    </tr>\n",
       "    <tr>\n",
       "      <th>Category</th>\n",
       "      <th></th>\n",
       "      <th></th>\n",
       "    </tr>\n",
       "  </thead>\n",
       "  <tbody>\n",
       "    <tr>\n",
       "      <th>COMMUNICATION</th>\n",
       "      <td>5.115917e+64</td>\n",
       "      <td>9</td>\n",
       "    </tr>\n",
       "    <tr>\n",
       "      <th>ENTERTAINMENT</th>\n",
       "      <td>7.165362e+06</td>\n",
       "      <td>1</td>\n",
       "    </tr>\n",
       "    <tr>\n",
       "      <th>NEWS_AND_MAGAZINES</th>\n",
       "      <td>8.776430e+05</td>\n",
       "      <td>1</td>\n",
       "    </tr>\n",
       "    <tr>\n",
       "      <th>PHOTOGRAPHY</th>\n",
       "      <td>5.429278e+14</td>\n",
       "      <td>2</td>\n",
       "    </tr>\n",
       "    <tr>\n",
       "      <th>PRODUCTIVITY</th>\n",
       "      <td>9.104038e+19</td>\n",
       "      <td>3</td>\n",
       "    </tr>\n",
       "    <tr>\n",
       "      <th>SOCIAL</th>\n",
       "      <td>2.219248e+22</td>\n",
       "      <td>3</td>\n",
       "    </tr>\n",
       "    <tr>\n",
       "      <th>TRAVEL_AND_LOCAL</th>\n",
       "      <td>9.231613e+06</td>\n",
       "      <td>1</td>\n",
       "    </tr>\n",
       "  </tbody>\n",
       "</table>\n",
       "</div>"
      ],
      "text/plain": [
       "                         Reviews     \n",
       "                            mean size\n",
       "Category                             \n",
       "COMMUNICATION       5.115917e+64    9\n",
       "ENTERTAINMENT       7.165362e+06    1\n",
       "NEWS_AND_MAGAZINES  8.776430e+05    1\n",
       "PHOTOGRAPHY         5.429278e+14    2\n",
       "PRODUCTIVITY        9.104038e+19    3\n",
       "SOCIAL              2.219248e+22    3\n",
       "TRAVEL_AND_LOCAL    9.231613e+06    1"
      ]
     },
     "execution_count": 62,
     "metadata": {},
     "output_type": "execute_result"
    }
   ],
   "source": []
  },
  {
   "cell_type": "markdown",
   "id": "85601465",
   "metadata": {},
   "source": [
    "# 10 Most Installed Categories"
   ]
  },
  {
   "cell_type": "code",
   "execution_count": 92,
   "id": "25a2d55e",
   "metadata": {},
   "outputs": [
    {
     "name": "stdout",
     "output_type": "stream",
     "text": [
      "Category\n",
      "COMMUNICATION         8.435989e+07\n",
      "SOCIAL                4.769447e+07\n",
      "VIDEO_PLAYERS         3.555430e+07\n",
      "PRODUCTIVITY          3.343418e+07\n",
      "GAME                  3.066960e+07\n",
      "PHOTOGRAPHY           3.011417e+07\n",
      "TRAVEL_AND_LOCAL      2.662359e+07\n",
      "NEWS_AND_MAGAZINES    2.648876e+07\n",
      "ENTERTAINMENT         1.925611e+07\n",
      "TOOLS                 1.358573e+07\n",
      "Name: Installs, dtype: float64\n"
     ]
    }
   ],
   "source": [
    "categories_and_installs=google_data.groupby('Category').Installs.mean().sort_values(ascending=False)\n",
    "top_categories_and_installs=categories_and_installs.iloc[0:10]\n",
    "print(top_categories_and_installs)"
   ]
  },
  {
   "cell_type": "code",
   "execution_count": 91,
   "id": "e4d73890",
   "metadata": {},
   "outputs": [
    {
     "data": {
      "text/plain": [
       "<AxesSubplot:xlabel='Category', ylabel='Installs'>"
      ]
     },
     "execution_count": 91,
     "metadata": {},
     "output_type": "execute_result"
    },
    {
     "data": {
      "image/png": "[encoded data removed]",
      "text/plain": [
       "<Figure size 640x480 with 1 Axes>"
      ]
     },
     "metadata": {},
     "output_type": "display_data"
    }
   ],
   "source": [
    "top_categories_and_installs.plot(kind=\"bar\",ylabel='Installs')"
   ]
  },
  {
   "cell_type": "code",
   "execution_count": 100,
   "id": "aebf261b",
   "metadata": {},
   "outputs": [
    {
     "data": {
      "text/plain": [
       "Type\n",
       "Free    10040\n",
       "Paid      800\n",
       "Name: Installs, dtype: int64"
      ]
     },
     "execution_count": 100,
     "metadata": {},
     "output_type": "execute_result"
    }
   ],
   "source": [
    "google_data.groupby(\"Type\").Installs.size()"
   ]
  },
  {
   "cell_type": "code",
   "execution_count": 104,
   "id": "3319e985",
   "metadata": {},
   "outputs": [],
   "source": [
    "free=google_data[\"Type\"]==\"Free\"\n",
    "paid=google_data[\"Type\"]==\"Paid\"\n",
    "free_apps=google_data[free]\n",
    "paid_apps=google_data[paid]"
   ]
  },
  {
   "cell_type": "code",
   "execution_count": 110,
   "id": "5060a61d",
   "metadata": {},
   "outputs": [],
   "source": [
    "free_apps_total=free_apps.groupby('Category').Installs.sum().sort_values(ascending=False)\n",
    "free_apps_count=free_apps.groupby('Category').Installs.size().sort_values(ascending=False)\n",
    "paid_apps_total=paid_apps.groupby('Category').Installs.sum().sort_values(ascending=False)\n",
    "paid_apps_count=paid_apps.groupby('Category').Installs.size().sort_values(ascending=False)\n"
   ]
  },
  {
   "cell_type": "code",
   "execution_count": 111,
   "id": "97ffaad7",
   "metadata": {},
   "outputs": [
    {
     "data": {
      "text/plain": [
       "Category\n",
       "GAME                  3.506492e+10\n",
       "COMMUNICATION         3.264592e+10\n",
       "PRODUCTIVITY          1.417468e+10\n",
       "SOCIAL                1.406986e+10\n",
       "TOOLS                 1.145104e+10\n",
       "FAMILY                1.022699e+10\n",
       "PHOTOGRAPHY           1.008427e+10\n",
       "NEWS_AND_MAGAZINES    7.496312e+09\n",
       "TRAVEL_AND_LOCAL      6.868704e+09\n",
       "VIDEO_PLAYERS         6.221932e+09\n",
       "Name: Installs, dtype: float64"
      ]
     },
     "execution_count": 111,
     "metadata": {},
     "output_type": "execute_result"
    }
   ],
   "source": [
    "# most prevalent categories for free apps\n",
    "free_apps_total.head(10)"
   ]
  },
  {
   "cell_type": "code",
   "execution_count": 112,
   "id": "9d79c5dc",
   "metadata": {},
   "outputs": [
    {
     "data": {
      "text/plain": [
       "Category\n",
       "FAMILY           1780\n",
       "GAME             1061\n",
       "TOOLS             765\n",
       "BUSINESS          446\n",
       "PRODUCTIVITY      396\n",
       "LIFESTYLE         364\n",
       "SPORTS            360\n",
       "COMMUNICATION     360\n",
       "MEDICAL           354\n",
       "FINANCE           349\n",
       "Name: Installs, dtype: int64"
      ]
     },
     "execution_count": 112,
     "metadata": {},
     "output_type": "execute_result"
    }
   ],
   "source": [
    "# most prevalent categories app counts for free aps\n",
    "free_apps_count.head(10)"
   ]
  },
  {
   "cell_type": "code",
   "execution_count": 113,
   "id": "62415b19",
   "metadata": {},
   "outputs": [
    {
     "data": {
      "text/plain": [
       "Category\n",
       "FAMILY             31271814\n",
       "GAME               21099965\n",
       "PERSONALIZATION     5258794\n",
       "PHOTOGRAPHY         3978740\n",
       "TOOLS               1727441\n",
       "PRODUCTIVITY        1412055\n",
       "COMMUNICATION       1360050\n",
       "SPORTS              1243815\n",
       "LIFESTYLE           1179110\n",
       "MEDICAL             1020033\n",
       "Name: Installs, dtype: int32"
      ]
     },
     "execution_count": 113,
     "metadata": {},
     "output_type": "execute_result"
    }
   ],
   "source": [
    "# most prevalent categories for paid apps\n",
    "\n",
    "paid_apps_total.head(10)\n"
   ]
  },
  {
   "cell_type": "code",
   "execution_count": 114,
   "id": "e0524440",
   "metadata": {},
   "outputs": [
    {
     "data": {
      "text/plain": [
       "Category\n",
       "FAMILY                 191\n",
       "MEDICAL                109\n",
       "GAME                    83\n",
       "PERSONALIZATION         83\n",
       "TOOLS                   78\n",
       "BOOKS_AND_REFERENCE     28\n",
       "PRODUCTIVITY            28\n",
       "COMMUNICATION           27\n",
       "SPORTS                  24\n",
       "PHOTOGRAPHY             22\n",
       "Name: Installs, dtype: int64"
      ]
     },
     "execution_count": 114,
     "metadata": {},
     "output_type": "execute_result"
    }
   ],
   "source": [
    "# most prevalent categories app counts for paid aps\n",
    "\n",
    "paid_apps_count.head(10)"
   ]
  }
 ],
 "metadata": {
  "kernelspec": {
   "display_name": "Python 3 (ipykernel)",
   "language": "python",
   "name": "python3"
  },
  "language_info": {
   "codemirror_mode": {
    "name": "ipython",
    "version": 3
   },
   "file_extension": ".py",
   "mimetype": "text/x-python",
   "name": "python",
   "nbconvert_exporter": "python",
   "pygments_lexer": "ipython3",
   "version": "3.9.13"
  }
 },
 "nbformat": 4,
 "nbformat_minor": 5
}
